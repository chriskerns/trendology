{
 "metadata": {
  "name": "",
  "signature": "sha256:83aa0d8317b3122dbc70a0d1ef82a37fbc81dbdd1dc492d93f9c0f743897c0ee"
 },
 "nbformat": 3,
 "nbformat_minor": 0,
 "worksheets": [
  {
   "cells": [
    {
     "cell_type": "markdown",
     "metadata": {},
     "source": [
      "Hello.<br><br>\n",
      "This is the code that was used while writing the book:"
     ]
    },
    {
     "cell_type": "heading",
     "level": 1,
     "metadata": {},
     "source": [
      "Trendology"
     ]
    },
    {
     "cell_type": "heading",
     "level": 3,
     "metadata": {},
     "source": [
      "Building an Advantage through Data-Driven Real-Time Marketing "
     ]
    },
    {
     "cell_type": "markdown",
     "metadata": {},
     "source": [
      "by Chris Kerns<br><br>\n",
      "You can find the book here: http://www.amazon.com/Trendology-Advantage-Data-Driven-Real-Time-Marketing/dp/1137479558\n",
      "<br>\n",
      "You can learn more about me and my latest data analysis here:\n",
      "http://chris-kerns.com\n",
      "<br>\n",
      "and you can find more code from the book here:\n",
      "http://github.com/chriskerns\n",
      "<br><br>\n",
      "Prereqs:<br>\n",
      "- This code assumes you have Python and a local MySQL database installed on your machine<br>\n",
      "- This code assumes you have Pandas installed<br>\n",
      "\n",
      "<br>\n",
      "My isn't perfect, but it works. Have fun with it, make it better. <BR><BR>\n"
     ]
    },
    {
     "cell_type": "code",
     "collapsed": false,
     "input": [
      "# IMPORT A FEW THINGS\n",
      "import MySQLdb\n",
      "from datetime import datetime as dt\n",
      "import time\n",
      "import pandas as pd\n",
      "import numpy as np\n",
      "from pandas import DataFrame, Series, date_range\n",
      "import pandas.io.sql as psql\n",
      "import matplotlib.pyplot as plt\n",
      "import matplotlib.font_manager as fm\n",
      "import pylab as pylab\n"
     ],
     "language": "python",
     "metadata": {},
     "outputs": [],
     "prompt_number": 1
    },
    {
     "cell_type": "code",
     "collapsed": false,
     "input": [
      "# CONNECT TO YOUR DATABASE\n",
      "\n",
      "mydb = MySQLdb.connect(host='#', user='#', passwd='#', db='#')\n",
      "cursor = mydb.cursor()\n",
      "\n",
      "varTableName = \"#YOUR_TABLE_NAME#\"\n"
     ],
     "language": "python",
     "metadata": {},
     "outputs": [],
     "prompt_number": 2
    },
    {
     "cell_type": "code",
     "collapsed": false,
     "input": [
      "#GET TWEETS FROM DB\n",
      "varSQLAll = \"SELECT * FROM \" + varTableName\n",
      "DFall = psql.frame_query(varSQLAll, con=mydb)\n",
      "DFall['screenname'] = DFall['screenname'].str.lower()\n",
      "print 'loaded dataframe from MySQL. records:', len(DFall)\n"
     ],
     "language": "python",
     "metadata": {},
     "outputs": [
      {
       "output_type": "stream",
       "stream": "stdout",
       "text": [
        "loaded dataframe from MySQL. records: 5304\n"
       ]
      },
      {
       "output_type": "stream",
       "stream": "stderr",
       "text": [
        "/Users/chris/Code/env2/lib/python2.7/site-packages/pandas/io/sql.py:1196: FutureWarning: frame_query is deprecated, use read_sql\n",
        "  warnings.warn(\"frame_query is deprecated, use read_sql\", FutureWarning)\n"
       ]
      }
     ],
     "prompt_number": 3
    },
    {
     "cell_type": "code",
     "collapsed": false,
     "input": [
      "\n",
      "#GET ORGANIC TWEETS FROM DB\n",
      "varSQLOrganic = \"SELECT * FROM \" + varTableName + \" where tweettext not like '@%' and tweettext not like 'RT%'\"\n",
      "DForganic = psql.frame_query(varSQLOrganic, con=mydb)\n",
      "DForganic['screenname'] = DForganic['screenname'].str.lower()\n",
      "print 'loaded dataframe from MySQL. records:', len(DForganic)\n"
     ],
     "language": "python",
     "metadata": {},
     "outputs": [
      {
       "output_type": "stream",
       "stream": "stdout",
       "text": [
        "loaded dataframe from MySQL. records: 2816\n"
       ]
      }
     ],
     "prompt_number": 4
    },
    {
     "cell_type": "code",
     "collapsed": false,
     "input": [
      "#GET @REPLIES FROM DB\n",
      "varSQLAT = \"SELECT * FROM \" + varTableName + \" WHERE TWEETTEXT LIKE '@%'\"\n",
      "DFAT = psql.frame_query(varSQLAT, con=mydb)\n",
      "DFAT['screenname'] = DFAT['screenname'].str.lower()\n",
      "print 'loaded dataframe from MySQL. records:', len(DFAT)\n"
     ],
     "language": "python",
     "metadata": {},
     "outputs": [
      {
       "output_type": "stream",
       "stream": "stdout",
       "text": [
        "loaded dataframe from MySQL. records: 1726\n"
       ]
      }
     ],
     "prompt_number": 5
    },
    {
     "cell_type": "code",
     "collapsed": false,
     "input": [
      "#GET RTS FROM DB\n",
      "varSQLRT = \"SELECT * FROM \" + varTableName + \" WHERE TWEETTEXT LIKE 'RT%'\"\n",
      "DFRT = psql.frame_query(varSQLRT, con=mydb)\n",
      "DFRT['screenname'] = DFRT['screenname'].str.lower()\n",
      "print 'loaded dataframe from MySQL. records:', len(DFRT)\n"
     ],
     "language": "python",
     "metadata": {},
     "outputs": [
      {
       "output_type": "stream",
       "stream": "stdout",
       "text": [
        "loaded dataframe from MySQL. records: 762\n"
       ]
      }
     ],
     "prompt_number": 6
    },
    {
     "cell_type": "code",
     "collapsed": false,
     "input": [
      "#STATS FUNCTION\n",
      "\n",
      "def mainstats(varDataframe):\n",
      "    varMeanRT = varDataframe['retweet_count'].mean()\n",
      "    varMedianRT = varDataframe['retweet_count'].median()\n",
      "    varSTDRT = varDataframe['retweet_count'].std()\n",
      "    varRTsPer = varDataframe['rtsperfollower'].mean()\n",
      "    varSTDRTsPer = varDataframe['rtsperfollower'].std()\n",
      "    \n",
      "    varMeanFav = varDataframe['favorites_count'].mean()\n",
      "    varMedianFav = varDataframe['favorites_count'].median()\n",
      "    varSTDFavs = varDataframe['favorites_count'].std()\n",
      "    varFavsPer = varDataframe['favsperfollower'].mean()\n",
      "    varSTDFavsPer = varDataframe['favsperfollower'].std()\n",
      "    \n",
      "    print \"Tweet count: \" + str(len(varDataframe))\n",
      "    print \"\"\n",
      "    print \"RETWEET STATS:\"\n",
      "    print \"--------------\"\n",
      "    print \"Average RTs: \" + str(varMeanRT)\n",
      "    print \"Median RTs: \" + str(varMedianRT)\n",
      "    print \"Average RTs/Follower: \" + '%f' % varRTsPer\n",
      "    print \"\"\n",
      "    print \"FAVORITES STATS:\"\n",
      "    print \"--------------\"\n",
      "    print \"Average Favs: \" + str(varMeanFav)\n",
      "    print \"Median Favs: \" + str(varMedianRT)\n",
      "    print \"Average Favs/Follower: \" + '%f' % varFavsPer\n",
      "    print \"\"\n",
      "    \n",
      "    return varMeanRT, varMedianRT, varRTsPer, varMeanFav, varMedianFav, varFavsPer"
     ],
     "language": "python",
     "metadata": {},
     "outputs": [],
     "prompt_number": 7
    },
    {
     "cell_type": "code",
     "collapsed": false,
     "input": [
      "#GRAB STATS FOR ALL TWEETS\n",
      "mainstats(DFall)\n"
     ],
     "language": "python",
     "metadata": {},
     "outputs": [
      {
       "output_type": "stream",
       "stream": "stdout",
       "text": [
        "Tweet count: 5304\n",
        "\n",
        "RETWEET STATS:\n",
        "--------------\n",
        "Average RTs: 788.223604827\n",
        "Median RTs: 0.0\n",
        "Average RTs/Follower: 0.111379\n",
        "\n",
        "FAVORITES STATS:\n",
        "--------------\n",
        "Average Favs: 0.81165158371\n",
        "Median Favs: 0.0\n",
        "Average Favs/Follower: 0.000167\n",
        "\n"
       ]
      },
      {
       "metadata": {},
       "output_type": "pyout",
       "prompt_number": 8,
       "text": [
        "(788.22360482654597,\n",
        " 0.0,\n",
        " 0.11137864952868004,\n",
        " 0.81165158371040724,\n",
        " 0.0,\n",
        " 0.00016725722861990426)"
       ]
      }
     ],
     "prompt_number": 8
    },
    {
     "cell_type": "code",
     "collapsed": false,
     "input": [
      "#GRAB STATS FOR ORGANIC TWEETS (NON-RT, NON-@REPLIES)\n",
      "varOrganic = mainstats(DForganic)\n"
     ],
     "language": "python",
     "metadata": {},
     "outputs": [
      {
       "output_type": "stream",
       "stream": "stdout",
       "text": [
        "Tweet count: 2816\n",
        "\n",
        "RETWEET STATS:\n",
        "--------------\n",
        "Average RTs: 1.10653409091\n",
        "Median RTs: 0.0\n",
        "Average RTs/Follower: 0.000195\n",
        "\n",
        "FAVORITES STATS:\n",
        "--------------\n",
        "Average Favs: 1.22904829545\n",
        "Median Favs: 0.0\n",
        "Average Favs/Follower: 0.000269\n",
        "\n"
       ]
      }
     ],
     "prompt_number": 9
    },
    {
     "cell_type": "code",
     "collapsed": false,
     "input": [
      "#GRAB STATS FOR RETWEETS\n",
      "mainstats(DFall.loc[DFall['tweettext'].str.startswith(\"RT\")])\n"
     ],
     "language": "python",
     "metadata": {},
     "outputs": [
      {
       "output_type": "stream",
       "stream": "stdout",
       "text": [
        "Tweet count: 762\n",
        "\n",
        "RETWEET STATS:\n",
        "--------------\n",
        "Average RTs: 5482.34514436\n",
        "Median RTs: 3.0\n",
        "Average RTs/Follower: 0.774529\n",
        "\n",
        "FAVORITES STATS:\n",
        "--------------\n",
        "Average Favs: 0.143044619423\n",
        "Median Favs: 3.0\n",
        "Average Favs/Follower: 0.000006\n",
        "\n"
       ]
      },
      {
       "metadata": {},
       "output_type": "pyout",
       "prompt_number": 10,
       "text": [
        "(5482.3451443569556,\n",
        " 3.0,\n",
        " 0.77452940569357309,\n",
        " 0.14304461942257218,\n",
        " 0.0,\n",
        " 5.9374349081364808e-06)"
       ]
      }
     ],
     "prompt_number": 10
    },
    {
     "cell_type": "code",
     "collapsed": false,
     "input": [
      "#GRAB STATS FOR @REPLIES\n",
      "mainstats(DFall.loc[DFall['tweettext'].str.startswith(\"@\")])\n"
     ],
     "language": "python",
     "metadata": {},
     "outputs": [
      {
       "output_type": "stream",
       "stream": "stdout",
       "text": [
        "Tweet count: 1726\n",
        "\n",
        "RETWEET STATS:\n",
        "--------------\n",
        "Average RTs: 0.0434530706837\n",
        "Median RTs: 0.0\n",
        "Average RTs/Follower: 0.000006\n",
        "\n",
        "FAVORITES STATS:\n",
        "--------------\n",
        "Average Favs: 0.4258400927\n",
        "Median Favs: 0.0\n",
        "Average Favs/Follower: 0.000073\n",
        "\n"
       ]
      },
      {
       "metadata": {},
       "output_type": "pyout",
       "prompt_number": 11,
       "text": [
        "(0.043453070683661645,\n",
        " 0.0,\n",
        " 6.128745307068389e-06,\n",
        " 0.4258400926998841,\n",
        " 0.0,\n",
        " 7.3037038876014535e-05)"
       ]
      }
     ],
     "prompt_number": 11
    },
    {
     "cell_type": "code",
     "collapsed": false,
     "input": [
      "#TOP 10 AND BOTTOM 10 RETWEETING SCREENNAMES FROM YOUR DATASET (AS A PERCENT OF LAST 3,200 TWEETS)\n",
      "\n",
      "varTopRTs = DFall.loc[DFall['tweettext'].str.startswith(\"RT\")].groupby('screenname').tweettext.nunique()\n",
      "varAll = DFall.groupby('screenname').tweettext.nunique()\n",
      "varRatio = (varTopRTs/varAll).order(ascending=False)\n",
      "\n",
      "print varRatio[:10]\n",
      "print \"\"\n",
      "print varRatio[-10:]\n"
     ],
     "language": "python",
     "metadata": {},
     "outputs": [
      {
       "output_type": "stream",
       "stream": "stdout",
       "text": [
        "screenname\n",
        "chriskerns    0.212952\n",
        "spredfast     0.081091\n",
        "Name: tweettext, dtype: float64\n",
        "\n",
        "screenname\n",
        "chriskerns    0.212952\n",
        "spredfast     0.081091\n",
        "Name: tweettext, dtype: float64\n"
       ]
      }
     ],
     "prompt_number": 12
    },
    {
     "cell_type": "code",
     "collapsed": false,
     "input": [
      "#TOP10 AND BOTTOM 10 @REPLY SCREENNAMES FROM YOUR DATASET (AS A PERCENT OF LAST 3,200 TWEETS)\n",
      "\n",
      "varTopReplies = DFall.loc[DFall['tweettext'].str.startswith(\"@\")].groupby('screenname').tweettext.nunique()\n",
      "varAll = DFall.groupby('screenname').tweettext.nunique()\n",
      "varRatio = (varTopReplies/varAll.astype(float)).order(ascending=False)\n",
      "\n",
      "print varRatio[:10]\n",
      "print \"\"\n",
      "print varRatio[-10:]\n"
     ],
     "language": "python",
     "metadata": {},
     "outputs": [
      {
       "output_type": "stream",
       "stream": "stdout",
       "text": [
        "screenname\n",
        "spredfast     0.437747\n",
        "chriskerns    0.201033\n",
        "Name: tweettext, dtype: float64\n",
        "\n",
        "screenname\n",
        "spredfast     0.437747\n",
        "chriskerns    0.201033\n",
        "Name: tweettext, dtype: float64\n"
       ]
      }
     ],
     "prompt_number": 13
    },
    {
     "cell_type": "code",
     "collapsed": false,
     "input": [
      "#RTs and FAVS CORRELATION\n",
      "DForganic['retweet_count'].corr(DForganic['favorites_count'])\n"
     ],
     "language": "python",
     "metadata": {},
     "outputs": [
      {
       "metadata": {},
       "output_type": "pyout",
       "prompt_number": 16,
       "text": [
        "0.63908018619266782"
       ]
      }
     ],
     "prompt_number": 16
    },
    {
     "cell_type": "markdown",
     "metadata": {},
     "source": [
      "That's it, just some basic analysis functionality.\n",
      "\n",
      "If you're having problems with the code or just want to chat, ping me at chris@chris-kerns.com\n",
      "\n",
      "Happy coding! Go make something awesome.\n"
     ]
    }
   ],
   "metadata": {}
  }
 ]
}