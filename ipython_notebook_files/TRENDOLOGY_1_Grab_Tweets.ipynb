{
 "metadata": {
  "name": "",
  "signature": "sha256:cc1e16620f325ad3e7a1b0b2bada1522c21b1a59fcccb51ff188a312738efcfd"
 },
 "nbformat": 3,
 "nbformat_minor": 0,
 "worksheets": [
  {
   "cells": [
    {
     "cell_type": "markdown",
     "metadata": {},
     "source": [
      "Hello.<br><br>\n",
      "This is the code that was used while writing the book:"
     ]
    },
    {
     "cell_type": "heading",
     "level": 1,
     "metadata": {},
     "source": [
      "Trendology"
     ]
    },
    {
     "cell_type": "heading",
     "level": 3,
     "metadata": {},
     "source": [
      "Building an Advantage through Data-Driven Real-Time Marketing "
     ]
    },
    {
     "cell_type": "markdown",
     "metadata": {},
     "source": [
      "by Chris Kerns<br><br>\n",
      "You can find the book here: http://www.amazon.com/Trendology-Advantage-Data-Driven-Real-Time-Marketing/dp/1137479558\n",
      "<br>\n",
      "You can learn more about me and my latest data analysis here:\n",
      "http://chris-kerns.com\n",
      "<br>\n",
      "and you can find more code from the book here:\n",
      "http://github.com/chriskerns\n",
      "<br><br>\n",
      "Prereqs:<br>\n",
      "- This code assumes you have Python and a local MySQL database installed on your machine<br>\n",
      "- You'll also need to install Python-Twitter (https://code.google.com/p/python-twitter/)<br>\n",
      "- And sign up for a Twitter developer account (it's eay, free, and takes 2 minutes - https://dev.twitter.com/)<br>\n",
      "\n",
      "<br>\n",
      "My code isn't perfect, but it works. Have fun with it, make it better. <BR><BR>"
     ]
    },
    {
     "cell_type": "code",
     "collapsed": false,
     "input": [
      "\n",
      "# THIS CODE WORKS WITH THE FOLLOWING MYSQL TABLE STRUCTURE:\n",
      "\n",
      "'''\n",
      "CREATE TABLE `###YOUR_TABLE_NAME_HERE###` (\n",
      "  `tweettext` varchar(500) DEFAULT NULL,\n",
      "  `screenname` varchar(100) DEFAULT NULL,\n",
      "  `retweet_count` int(11) DEFAULT NULL,\n",
      "  `favorites_count` int(11) DEFAULT NULL,\n",
      "  `tweet_created` datetime DEFAULT NULL,\n",
      "  `tweet_id` bigint(20) DEFAULT NULL,\n",
      "  `followers` int(11) DEFAULT NULL,\n",
      "  `rtsperfollower` decimal(12,10) DEFAULT NULL,\n",
      "  `favsperfollower` decimal(12,10) DEFAULT NULL\n",
      ")\n",
      "'''"
     ],
     "language": "python",
     "metadata": {},
     "outputs": [
      {
       "metadata": {},
       "output_type": "pyout",
       "prompt_number": 1,
       "text": [
        "'\\nCREATE TABLE `###YOUR_TABLE_NAME_HERE###` (\\n  `tweettext` varchar(500) DEFAULT NULL,\\n  `screenname` varchar(100) DEFAULT NULL,\\n  `retweet_count` int(11) DEFAULT NULL,\\n  `favorites_count` int(11) DEFAULT NULL,\\n  `tweet_created` datetime DEFAULT NULL,\\n  `tweet_id` bigint(20) DEFAULT NULL,\\n  `followers` int(11) DEFAULT NULL,\\n  `rtsperfollower` decimal(12,10) DEFAULT NULL,\\n  `favsperfollower` decimal(12,10) DEFAULT NULL\\n)\\n'"
       ]
      }
     ],
     "prompt_number": 1
    },
    {
     "cell_type": "code",
     "collapsed": false,
     "input": [
      "# IMPORT A FEW THINGS\n",
      "import twitter\n",
      "import MySQLdb\n",
      "import datetime\n",
      "import time\n",
      "\n",
      "# CONNECT TO THE TWITTER API\n",
      "CONSUMER_KEY = '#YOUR_TWITTER_API_CONSUMER_KEY#'\n",
      "CONSUMER_SECRET = '#YOUR_TWITTER_API_CONSUMER_SECRET#'\n",
      "ACCESS_TOKEN = '#YOUR_TWITTER_API_ACCESS_TOKEN#'\n",
      "ACCESS_TOKEN_SECRET = '#YOUR_TWITTER_API_ACCESS_TOKEN_SECRET#'\n",
      "\n",
      "api = twitter.Api(consumer_key=CONSUMER_KEY,\n",
      "    consumer_secret=CONSUMER_SECRET,\n",
      "    access_token_key=ACCESS_TOKEN,\n",
      "    access_token_secret=ACCESS_TOKEN_SECRET)\n"
     ],
     "language": "python",
     "metadata": {},
     "outputs": [],
     "prompt_number": 2
    },
    {
     "cell_type": "code",
     "collapsed": false,
     "input": [
      "# CONNECT TO YOUR DATABASE\n",
      "\n",
      "mydb = MySQLdb.connect(host='#YOURHOST$', user='#USER#', passwd='#PASSWORD#', db='#DB#')\n",
      "cursor = mydb.cursor()\n"
     ],
     "language": "python",
     "metadata": {},
     "outputs": [],
     "prompt_number": 3
    },
    {
     "cell_type": "code",
     "collapsed": false,
     "input": [
      "# SET COUNTERS. THESE MAKE SURE WE STAY WITHIN THE TWITTER API REQUEST LIMITS\n",
      "\n",
      "varAPICounter = 0\n",
      "varAPILimit = 15\n",
      "\n",
      "# SET DATABASE TABLE NAME AND YOUR LIST OF TWITTER SCREENNAMES YOU WANT TO PULL DATA FOR.\n",
      "# YOU CAN ADD AS MANY SCREENNAMES AS YOU LIKE\n",
      "\n",
      "varTextTable = \"#YOUR_DATABASE_TABLE\"\n",
      "\n",
      "varList = ['#TWITTER_SCREENNAME_1#','#TWITTER_SCREENNAME_2#','#TWITTER_SCREENNAME_3#','#ETC#']\n"
     ],
     "language": "python",
     "metadata": {},
     "outputs": []
    },
    {
     "cell_type": "code",
     "collapsed": false,
     "input": [
      "#GRAB THE LAST 3200 TWEETS FROM EACH SCREENNAME IN varList\n",
      "\n",
      "# varCounter TELLS THE CODE IF THIS IS THE FIRST CALL FOR A GIVEN SCREENNAME. THE LOGIC IS A BIT DIFFERENT\n",
      "# FOR THE FIRST CALL VS. SUBSEQUENT CALLS\n",
      "\n",
      "varCounter = 0\n",
      "varMaxID = 0\n",
      "\n",
      "for varBrand in varList:\n",
      "    \n",
      "    while varCounter < 16:\n",
      "        \n",
      "        if varAPICounter == varAPILimit:\n",
      "            now = datetime.datetime.now()\n",
      "            infifteen = now + datetime.timedelta(seconds=910)\n",
      "            print \"Hit the rate limit. API pinging will resume in 15 minutes, at: \" + str(infifteen)\n",
      "            time.sleep(910)\n",
      "            varAPICounter = 0\n",
      "            \n",
      "        if varCounter == 0:\n",
      "            varCounter = varCounter + 1\n",
      "            varAPICounter = varAPICounter + 1\n",
      "            print \"varAPICounter:\" + str(varAPICounter) + \", varCounter:\" + str(varCounter) + \" varMaxID:\" + str(varMaxID) \\\n",
      "                + \", screenname:\" + varBrand\n",
      "            try:\n",
      "                user_timeline=api.GetUserTimeline(screen_name=varBrand, count=200)\n",
      "                print \"API call successful\"\n",
      "            except:\n",
      "                print \"API call error\"\n",
      "                continue\n",
      "        else:\n",
      "            varCounter = varCounter + 1\n",
      "            varAPICounter = varAPICounter + 1\n",
      "            print \"varAPICounter:\" + str(varAPICounter) + \", varCounter:\" + str(varCounter) + \" varMaxID:\" + str(varMaxID) \\\n",
      "                + \", screenname:\" + varBrand\n",
      "            try:\n",
      "                user_timeline=api.GetUserTimeline(screen_name=varBrand, count=200, max_id=varMaxID)\n",
      "                print \"API call successful\"\n",
      "            except:\n",
      "                print \"API call error\"\n",
      "                continue\n",
      "                \n",
      "        for tweet in user_timeline:\n",
      "            varSQL = \"SELECT * FROM \" + varTextTable + \" WHERE tweet_id = %s\" % tweet.id   \n",
      "            cursor.execute(varSQL)\n",
      "            varReturn = cursor.fetchall()\n",
      "            \n",
      "            if varReturn:\n",
      "                #print \"ID exists\"\n",
      "                tweetID = long(tweet.id)\n",
      "            else:\n",
      "                tweetID = long(tweet.id)\n",
      "                tweetText = tweet.text\n",
      "                tweetText = tweetText.encode('ascii','ignore').replace(\"'\",\"\").replace(\"\\\\\",\"\")\n",
      "                created_at = tweet.created_at\n",
      "                time_struct = time.strptime(created_at, \"%a %b %d %H:%M:%S +0000 %Y\")#Tue Apr 26 08:57:55 +0000 2011\n",
      "                created_at_new = datetime.datetime.fromtimestamp(time.mktime(time_struct))\n",
      "                retweetCount = tweet.retweet_count\n",
      "                favoritesCount = tweet.favorite_count\n",
      "                followersCount = tweet.user.followers_count\n",
      "                varRTsper = (retweetCount/float(followersCount))\n",
      "                varFavsper = (favoritesCount/float(followersCount))\n",
      "                varSQLInsert = \"INSERT INTO \" + varTextTable + \"(tweettext, screenname, retweet_count,\\\n",
      "                    favorites_count, tweet_created, tweet_id, followers, rtsperfollower, favsperfollower)\\\n",
      "                    VALUES('%s','%s',%s, %s, '%s', %s, %s, %s, %s) \" % \\\n",
      "                    (tweetText, varBrand, retweetCount, favoritesCount, created_at_new, tweetID, followersCount, varRTsper, varFavsper)\n",
      "                cursor.execute(varSQLInsert)\n",
      "            varMaxID = tweetID\n",
      "        mydb.commit()\n",
      "        \n",
      "    varCounter = 0\n",
      "    varMaxID = 0\n",
      "    "
     ],
     "language": "python",
     "metadata": {},
     "outputs": [
      {
       "output_type": "stream",
       "stream": "stdout",
       "text": [
        "varAPICounter:1, varCounter:1 varMaxID:0, screenname:chriskerns\n",
        "API call successful"
       ]
      },
      {
       "output_type": "stream",
       "stream": "stdout",
       "text": [
        "\n",
        "varAPICounter:2, varCounter:2 varMaxID:524967657313812480, screenname:chriskerns"
       ]
      },
      {
       "output_type": "stream",
       "stream": "stdout",
       "text": [
        "\n",
        "API call successful"
       ]
      },
      {
       "output_type": "stream",
       "stream": "stdout",
       "text": [
        "\n",
        "varAPICounter:3, varCounter:3 varMaxID:510809931852038144, screenname:chriskerns"
       ]
      },
      {
       "output_type": "stream",
       "stream": "stdout",
       "text": [
        "\n",
        "API call successful"
       ]
      },
      {
       "output_type": "stream",
       "stream": "stdout",
       "text": [
        "\n",
        "varAPICounter:4, varCounter:4 varMaxID:492749836584640512, screenname:chriskerns"
       ]
      },
      {
       "output_type": "stream",
       "stream": "stdout",
       "text": [
        "\n",
        "API call successful"
       ]
      },
      {
       "output_type": "stream",
       "stream": "stderr",
       "text": [
        "-c:62: Warning: Data truncated for column 'favsperfollower' at row 1\n",
        "-c:62: Warning: Data truncated for column 'rtsperfollower' at row 1\n",
        "-c:62: Warning: Out of range value for column 'rtsperfollower' at row 1\n"
       ]
      },
      {
       "output_type": "stream",
       "stream": "stdout",
       "text": [
        "\n",
        "varAPICounter:5, varCounter:5 varMaxID:464013389824397313, screenname:chriskerns"
       ]
      },
      {
       "output_type": "stream",
       "stream": "stdout",
       "text": [
        "\n",
        "API call successful"
       ]
      },
      {
       "output_type": "stream",
       "stream": "stdout",
       "text": [
        "\n",
        "varAPICounter:6, varCounter:6 varMaxID:437378904383180800, screenname:chriskerns"
       ]
      },
      {
       "output_type": "stream",
       "stream": "stdout",
       "text": [
        "\n",
        "API call successful"
       ]
      },
      {
       "output_type": "stream",
       "stream": "stdout",
       "text": [
        "\n",
        "varAPICounter:7, varCounter:7 varMaxID:417033667194531840, screenname:chriskerns"
       ]
      },
      {
       "output_type": "stream",
       "stream": "stdout",
       "text": [
        "\n",
        "API call successful"
       ]
      },
      {
       "output_type": "stream",
       "stream": "stdout",
       "text": [
        "\n",
        "varAPICounter:8, varCounter:8 varMaxID:367470685842468864, screenname:chriskerns"
       ]
      },
      {
       "output_type": "stream",
       "stream": "stdout",
       "text": [
        "\n",
        "API call successful"
       ]
      },
      {
       "output_type": "stream",
       "stream": "stdout",
       "text": [
        "\n",
        "varAPICounter:9, varCounter:9 varMaxID:329239995028213763, screenname:chriskerns"
       ]
      },
      {
       "output_type": "stream",
       "stream": "stdout",
       "text": [
        "\n",
        "API call successful"
       ]
      },
      {
       "output_type": "stream",
       "stream": "stdout",
       "text": [
        "\n",
        "varAPICounter:10, varCounter:10 varMaxID:295887693508923392, screenname:chriskerns"
       ]
      },
      {
       "output_type": "stream",
       "stream": "stdout",
       "text": [
        "\n",
        "API call successful"
       ]
      },
      {
       "output_type": "stream",
       "stream": "stdout",
       "text": [
        "\n",
        "varAPICounter:11, varCounter:11 varMaxID:247754689490321408, screenname:chriskerns"
       ]
      },
      {
       "output_type": "stream",
       "stream": "stdout",
       "text": [
        "\n",
        "API call successful"
       ]
      },
      {
       "output_type": "stream",
       "stream": "stdout",
       "text": [
        "\n",
        "varAPICounter:12, varCounter:12 varMaxID:94439487656042496, screenname:chriskerns"
       ]
      },
      {
       "output_type": "stream",
       "stream": "stdout",
       "text": [
        "\n",
        "API call successful"
       ]
      },
      {
       "output_type": "stream",
       "stream": "stdout",
       "text": [
        "\n",
        "varAPICounter:13, varCounter:13 varMaxID:14177065989, screenname:chriskerns"
       ]
      },
      {
       "output_type": "stream",
       "stream": "stdout",
       "text": [
        "\n",
        "API call successful"
       ]
      },
      {
       "output_type": "stream",
       "stream": "stdout",
       "text": [
        "\n",
        "varAPICounter:14, varCounter:14 varMaxID:18685291, screenname:chriskerns"
       ]
      },
      {
       "output_type": "stream",
       "stream": "stdout",
       "text": [
        "\n",
        "API call successful"
       ]
      },
      {
       "output_type": "stream",
       "stream": "stdout",
       "text": [
        "\n",
        "varAPICounter:15, varCounter:15 varMaxID:18685291, screenname:chriskerns\n",
        "API call successful"
       ]
      },
      {
       "output_type": "stream",
       "stream": "stdout",
       "text": [
        "\n",
        "Hit the rate limit. API pinging will resume in 15 minutes, at: 2014-11-12 15:26:14.225360\n",
        "varAPICounter:1, varCounter:16 varMaxID:18685291, screenname:chriskerns"
       ]
      },
      {
       "output_type": "stream",
       "stream": "stdout",
       "text": [
        "\n",
        "API call successful"
       ]
      },
      {
       "output_type": "stream",
       "stream": "stdout",
       "text": [
        "\n",
        "varAPICounter:2, varCounter:1 varMaxID:0, screenname:spredfast"
       ]
      },
      {
       "output_type": "stream",
       "stream": "stdout",
       "text": [
        "\n",
        "API call successful"
       ]
      },
      {
       "output_type": "stream",
       "stream": "stdout",
       "text": [
        "\n",
        "varAPICounter:3, varCounter:2 varMaxID:523183230619750400, screenname:spredfast"
       ]
      },
      {
       "output_type": "stream",
       "stream": "stdout",
       "text": [
        "\n",
        "API call successful"
       ]
      },
      {
       "output_type": "stream",
       "stream": "stdout",
       "text": [
        "\n",
        "varAPICounter:4, varCounter:3 varMaxID:522800553483853824, screenname:spredfast"
       ]
      },
      {
       "output_type": "stream",
       "stream": "stdout",
       "text": [
        "\n",
        "API call successful"
       ]
      },
      {
       "output_type": "stream",
       "stream": "stdout",
       "text": [
        "\n",
        "varAPICounter:5, varCounter:4 varMaxID:522095709806669825, screenname:spredfast"
       ]
      },
      {
       "output_type": "stream",
       "stream": "stdout",
       "text": [
        "\n",
        "API call successful"
       ]
      },
      {
       "output_type": "stream",
       "stream": "stdout",
       "text": [
        "\n",
        "varAPICounter:6, varCounter:5 varMaxID:514448133191774208, screenname:spredfast"
       ]
      },
      {
       "output_type": "stream",
       "stream": "stdout",
       "text": [
        "\n",
        "API call successful"
       ]
      },
      {
       "output_type": "stream",
       "stream": "stdout",
       "text": [
        "\n",
        "varAPICounter:7, varCounter:6 varMaxID:509047324551962624, screenname:spredfast"
       ]
      },
      {
       "output_type": "stream",
       "stream": "stdout",
       "text": [
        "\n",
        "API call successful"
       ]
      },
      {
       "output_type": "stream",
       "stream": "stdout",
       "text": [
        "\n",
        "varAPICounter:8, varCounter:7 varMaxID:503978548160659456, screenname:spredfast"
       ]
      },
      {
       "output_type": "stream",
       "stream": "stdout",
       "text": [
        "\n",
        "API call successful"
       ]
      },
      {
       "output_type": "stream",
       "stream": "stdout",
       "text": [
        "\n",
        "varAPICounter:9, varCounter:8 varMaxID:500375234810490880, screenname:spredfast"
       ]
      },
      {
       "output_type": "stream",
       "stream": "stdout",
       "text": [
        "\n",
        "API call successful"
       ]
      },
      {
       "output_type": "stream",
       "stream": "stdout",
       "text": [
        "\n",
        "varAPICounter:10, varCounter:9 varMaxID:496693666891567104, screenname:spredfast"
       ]
      },
      {
       "output_type": "stream",
       "stream": "stdout",
       "text": [
        "\n",
        "API call successful"
       ]
      },
      {
       "output_type": "stream",
       "stream": "stdout",
       "text": [
        "\n",
        "varAPICounter:11, varCounter:10 varMaxID:492405509539266561, screenname:spredfast"
       ]
      },
      {
       "output_type": "stream",
       "stream": "stdout",
       "text": [
        "\n",
        "API call successful"
       ]
      },
      {
       "output_type": "stream",
       "stream": "stdout",
       "text": [
        "\n",
        "varAPICounter:12, varCounter:11 varMaxID:488739191422201856, screenname:spredfast"
       ]
      },
      {
       "output_type": "stream",
       "stream": "stdout",
       "text": [
        "\n",
        "API call successful"
       ]
      },
      {
       "output_type": "stream",
       "stream": "stdout",
       "text": [
        "\n",
        "varAPICounter:13, varCounter:12 varMaxID:484003552189501441, screenname:spredfast"
       ]
      },
      {
       "output_type": "stream",
       "stream": "stdout",
       "text": [
        "\n",
        "API call successful"
       ]
      },
      {
       "output_type": "stream",
       "stream": "stdout",
       "text": [
        "\n",
        "varAPICounter:14, varCounter:13 varMaxID:478667103126708225, screenname:spredfast"
       ]
      },
      {
       "output_type": "stream",
       "stream": "stdout",
       "text": [
        "\n",
        "API call successful"
       ]
      },
      {
       "output_type": "stream",
       "stream": "stdout",
       "text": [
        "\n",
        "varAPICounter:15, varCounter:14 varMaxID:474209093377601536, screenname:spredfast"
       ]
      },
      {
       "output_type": "stream",
       "stream": "stdout",
       "text": [
        "\n",
        "API call successful"
       ]
      },
      {
       "output_type": "stream",
       "stream": "stdout",
       "text": [
        "\n",
        "Hit the rate limit. API pinging will resume in 15 minutes, at: 2014-11-12 15:41:48.137309"
       ]
      }
     ]
    },
    {
     "cell_type": "code",
     "collapsed": false,
     "input": [
      "#THAT'S IT - YOU SHOULD NOW HAVE A DATABASE FULL OF TWEETS TO ANALYZE"
     ],
     "language": "python",
     "metadata": {},
     "outputs": []
    },
    {
     "cell_type": "markdown",
     "metadata": {},
     "source": [
      "If you're having problems with the code or just want to chat, ping me at chris@chris-kerns.com\n",
      "\n",
      "Happy coding! Go make something awesome.\n",
      "\n",
      "/chris"
     ]
    },
    {
     "cell_type": "code",
     "collapsed": false,
     "input": [],
     "language": "python",
     "metadata": {},
     "outputs": []
    }
   ],
   "metadata": {}
  }
 ]
}